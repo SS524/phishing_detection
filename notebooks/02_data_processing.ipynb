{
 "cells": [
  {
   "cell_type": "code",
   "execution_count": 1,
   "metadata": {},
   "outputs": [],
   "source": [
    "import os"
   ]
  },
  {
   "cell_type": "code",
   "execution_count": 2,
   "metadata": {},
   "outputs": [
    {
     "data": {
      "text/plain": [
       "'c:\\\\Users\\\\USER\\\\Documents\\\\JupyterNB\\\\ineuron\\\\Python Advanced\\\\Phishing_detection\\\\notebooks'"
      ]
     },
     "execution_count": 2,
     "metadata": {},
     "output_type": "execute_result"
    }
   ],
   "source": [
    "%pwd"
   ]
  },
  {
   "cell_type": "code",
   "execution_count": 3,
   "metadata": {},
   "outputs": [
    {
     "data": {
      "text/plain": [
       "'c:\\\\Users\\\\USER\\\\Documents\\\\JupyterNB\\\\ineuron\\\\Python Advanced\\\\Phishing_detection'"
      ]
     },
     "execution_count": 3,
     "metadata": {},
     "output_type": "execute_result"
    }
   ],
   "source": [
    "os.chdir('../')\n",
    "%pwd"
   ]
  },
  {
   "cell_type": "code",
   "execution_count": 4,
   "metadata": {},
   "outputs": [],
   "source": [
    "from dataclasses import dataclass\n",
    "from pathlib import Path\n",
    "\n",
    "\n",
    "@dataclass(frozen=True)\n",
    "class DataProcessingConfig:\n",
    "    root_dir: Path\n",
    "    final_data_file: Path"
   ]
  },
  {
   "cell_type": "code",
   "execution_count": 5,
   "metadata": {},
   "outputs": [],
   "source": [
    "from src.phishingdetection.constants import *\n",
    "from src.phishingdetection.utils.common_functionality import read_yaml, create_directories"
   ]
  },
  {
   "cell_type": "code",
   "execution_count": 6,
   "metadata": {},
   "outputs": [],
   "source": [
    "class ConfigurationManager:\n",
    "    def __init__(\n",
    "        self,\n",
    "        config_filepath = CONFIG_FILE_PATH,\n",
    "        params_filepath = PARAMS_FILE_PATH):\n",
    "\n",
    "        self.config = read_yaml(config_filepath)\n",
    "        self.params = read_yaml(params_filepath)\n",
    "\n",
    "        create_directories([self.config.artifacts_root])\n",
    "\n",
    "\n",
    "    \n",
    "    def get_data_processing_config(self) -> DataProcessingConfig:\n",
    "        config = self.config.data_processing\n",
    "\n",
    "        create_directories([config.root_dir])\n",
    "\n",
    "        data_processing_config = DataProcessingConfig(\n",
    "            root_dir=config.root_dir,\n",
    "            final_data_file = config.final_data_file\n",
    "            \n",
    "        )\n",
    "\n",
    "        return data_processing_config"
   ]
  },
  {
   "cell_type": "code",
   "execution_count": 7,
   "metadata": {},
   "outputs": [],
   "source": [
    "from src.phishingdetection.utils.common_functionality import get_size, save_object, load_object, featureExtraction\n",
    "from src.phishingdetection import logger\n",
    "import pandas as pd\n",
    "import numpy as np\n",
    "from sklearn.model_selection import train_test_split\n",
    "from sklearn.preprocessing import StandardScaler\n"
   ]
  },
  {
   "cell_type": "code",
   "execution_count": 8,
   "metadata": {},
   "outputs": [],
   "source": [
    "class DataProcessing:\n",
    "    def __init__(self, config: DataProcessingConfig):\n",
    "        self.config = config\n",
    "\n",
    "\n",
    "    \n",
    "    def data_cleaning(self,phishing_data_path,legit_data_path):\n",
    "\n",
    "        df1 = pd.read_csv(phishing_data_path)\n",
    "        if df1['url'].isnull().sum()!=0:\n",
    "            df1 = df1.dropna(axis=0)\n",
    "        \n",
    "        df1 = df1.drop_duplicates()\n",
    "        phishing_df = df1.sample(n=100,random_state=12).copy()\n",
    "        phishing_df = phishing_df.reset_index(drop=True)\n",
    "\n",
    "        legit_df = pd.read_csv(legit_data_path)\n",
    "\n",
    "        \n",
    "        df2 = pd.read_csv(legit_data_path)\n",
    "        df2.columns = ['URLs']\n",
    "        if df2['URLs'].isnull().sum()!=0:\n",
    "            df2 = df2.dropna(axis=0)\n",
    "        \n",
    "        df2 = df2.drop_duplicates()\n",
    "        legit_df = df2.sample(n=100,random_state=12).copy()\n",
    "        legit_df = legit_df.reset_index(drop=True)\n",
    "\n",
    "        logger.info('Data cleaning done')\n",
    "\n",
    "\n",
    "        return phishing_df,legit_df\n",
    "\n",
    "\n",
    "    def feature_extraction(self,phishing_df,legit_df):\n",
    "\n",
    "        feature_names = ['Domain', 'Have_IP', 'Have_At', 'URL_Length', 'URL_Depth','Redirection', \n",
    "                      'https_Domain', 'TinyURL', 'Prefix/Suffix', 'DNS_Record', 'Web_Traffic', 'Label']\n",
    "        \n",
    "        \n",
    "        try:\n",
    "            legi_features = []\n",
    "            label = 0\n",
    "            for i in range(0, 100):\n",
    "                url = legit_df['URLs'][i]\n",
    "                legi_features.append(featureExtraction(url,label))\n",
    "            \n",
    "            legitimate = pd.DataFrame(legi_features, columns= feature_names)\n",
    "\n",
    "        except Exception as e:\n",
    "            logger.info(e)\n",
    "\n",
    "\n",
    "        try:\n",
    "            phish_features = []\n",
    "            label = 1\n",
    "            for i in range(0, 100):\n",
    "                url = phishing_df['url'][i]\n",
    "                phish_features.append(featureExtraction(url,label))\n",
    "        \n",
    "            phishing = pd.DataFrame(phish_features, columns= feature_names)\n",
    "\n",
    "        except Exception as e:\n",
    "            logger.info(e)\n",
    "\n",
    "        \n",
    "        urldata = pd.concat([legitimate, phishing]).reset_index(drop=True)\n",
    "\n",
    "        X = urldata.drop(['Domain','Label'],axis=1)\n",
    "        y = urldata['Label']\n",
    "\n",
    "        X_train, X_test, y_train, y_test = train_test_split(X,y,test_size=0.2,random_state=42)\n",
    "\n",
    "        scaler = StandardScaler()\n",
    "\n",
    "        X_train_scaled = scaler.fit_transform(X_train)\n",
    "        X_test_scaled = scaler.transform(X_test)\n",
    "\n",
    "        final_data = {\n",
    "            'X_train': X_train_scaled,\n",
    "            'y_train':y_train,\n",
    "            'X_test': X_test_scaled,\n",
    "            'y_test': y_test\n",
    "        }\n",
    "\n",
    "        if not os.path.exists(self.config.final_data_file):\n",
    "            save_object(self.config.final_data_file, final_data)\n",
    "            logger.info('Final data is saved!')\n",
    "\n",
    "        else:\n",
    "            logger.info(f\"File already exists of size: {get_size(Path(self.config.local_data_file))}\")\n",
    "\n",
    "\n",
    "        \n",
    "\n",
    "        \n",
    "\n",
    "\n",
    "\n"
   ]
  },
  {
   "cell_type": "code",
   "execution_count": 9,
   "metadata": {},
   "outputs": [
    {
     "name": "stdout",
     "output_type": "stream",
     "text": [
      "[2023-07-20 19:29:26,837: INFO: common_functionality: yaml file: config\\config.yaml loaded successfully]\n",
      "[2023-07-20 19:29:26,847: INFO: common_functionality: yaml file: params.yaml loaded successfully]\n",
      "[2023-07-20 19:29:26,848: INFO: common_functionality: created directory at: artifacts]\n",
      "[2023-07-20 19:29:26,865: INFO: common_functionality: created directory at: artifacts/data_processing]\n",
      "[2023-07-20 19:29:27,280: INFO: 110456258: Data cleaning done]\n",
      "[2023-07-20 19:36:18,766: INFO: 110456258: Final data is saved!]\n"
     ]
    }
   ],
   "source": [
    "try:\n",
    "    config = ConfigurationManager()\n",
    "    \n",
    "    data_processing_config = config.get_data_processing_config()\n",
    "    data_processing = DataProcessing(config=data_processing_config)\n",
    "    phishing_df, legit_df = data_processing.data_cleaning(config.config.data_ingestion.phishing_data_file, config.config.data_ingestion.legit_data_file)\n",
    "    data_processing.feature_extraction(phishing_df, legit_df)\n",
    "   \n",
    "except Exception as e:\n",
    "    raise e"
   ]
  },
  {
   "cell_type": "code",
   "execution_count": null,
   "metadata": {},
   "outputs": [],
   "source": []
  }
 ],
 "metadata": {
  "kernelspec": {
   "display_name": "phishingdetect",
   "language": "python",
   "name": "python3"
  },
  "language_info": {
   "codemirror_mode": {
    "name": "ipython",
    "version": 3
   },
   "file_extension": ".py",
   "mimetype": "text/x-python",
   "name": "python",
   "nbconvert_exporter": "python",
   "pygments_lexer": "ipython3",
   "version": "3.8.17"
  },
  "orig_nbformat": 4
 },
 "nbformat": 4,
 "nbformat_minor": 2
}
