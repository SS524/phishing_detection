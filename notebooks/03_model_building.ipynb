{
 "cells": [
  {
   "cell_type": "code",
   "execution_count": 1,
   "metadata": {},
   "outputs": [],
   "source": [
    "import os"
   ]
  },
  {
   "cell_type": "code",
   "execution_count": 2,
   "metadata": {},
   "outputs": [
    {
     "data": {
      "text/plain": [
       "'c:\\\\Users\\\\USER\\\\Documents\\\\JupyterNB\\\\ineuron\\\\Python Advanced\\\\Phishing_detection\\\\notebooks'"
      ]
     },
     "execution_count": 2,
     "metadata": {},
     "output_type": "execute_result"
    }
   ],
   "source": [
    "%pwd"
   ]
  },
  {
   "cell_type": "code",
   "execution_count": 3,
   "metadata": {},
   "outputs": [],
   "source": [
    "os.chdir('../')"
   ]
  },
  {
   "cell_type": "code",
   "execution_count": 4,
   "metadata": {},
   "outputs": [
    {
     "data": {
      "text/plain": [
       "'c:\\\\Users\\\\USER\\\\Documents\\\\JupyterNB\\\\ineuron\\\\Python Advanced\\\\Phishing_detection'"
      ]
     },
     "execution_count": 4,
     "metadata": {},
     "output_type": "execute_result"
    }
   ],
   "source": [
    "%pwd"
   ]
  },
  {
   "cell_type": "code",
   "execution_count": 5,
   "metadata": {},
   "outputs": [],
   "source": [
    "from dataclasses import dataclass\n",
    "from pathlib import Path\n",
    "\n",
    "\n",
    "@dataclass(frozen=True)\n",
    "class ModelBuildingConfig:\n",
    "    root_dir: Path\n",
    "    trained_modl_file: Path\n",
    "    LogisticRegression: dict\n",
    "  \n",
    "\n",
    "\n"
   ]
  },
  {
   "cell_type": "code",
   "execution_count": 6,
   "metadata": {},
   "outputs": [],
   "source": [
    "from src.phishingdetection.constants import *\n",
    "from src.phishingdetection.utils.common_functionality import read_yaml, create_directories"
   ]
  },
  {
   "cell_type": "code",
   "execution_count": 7,
   "metadata": {},
   "outputs": [],
   "source": [
    "class ConfigurationManager:\n",
    "    def __init__(\n",
    "        self,\n",
    "        config_filepath = CONFIG_FILE_PATH,\n",
    "        params_filepath = PARAMS_FILE_PATH):\n",
    "\n",
    "        self.config = read_yaml(config_filepath)\n",
    "        self.params = read_yaml(params_filepath)\n",
    "\n",
    "        create_directories([self.config.artifacts_root])\n",
    "\n",
    "\n",
    "    \n",
    "    def get_model_building_config(self) -> ModelBuildingConfig:\n",
    "        config = self.config.model_building\n",
    "\n",
    "        create_directories([config.root_dir])\n",
    "\n",
    "        model_building_config = ModelBuildingConfig(\n",
    "            root_dir = config.root_dir,\n",
    "            trained_modl_file = config.trained_modl_file,\n",
    "            LogisticRegression = self.params.LogisticRegression,\n",
    "       \n",
    "            \n",
    "        )\n",
    "\n",
    "        return model_building_config"
   ]
  },
  {
   "cell_type": "code",
   "execution_count": 8,
   "metadata": {},
   "outputs": [],
   "source": [
    "from sklearn.linear_model import LogisticRegression\n",
    "# from sklearn.tree import DecisionTreeClassifier\n",
    "# from sklearn.ensemble import RandomForestClassifier, GradientBoostingClassifier\n",
    "# from sklearn.svm import SVC\n",
    "from sklearn.model_selection import RandomizedSearchCV\n",
    "from src.phishingdetection.utils.common_functionality import load_object, save_object, get_size\n",
    "from src.phishingdetection import logger\n",
    "import pandas as pd"
   ]
  },
  {
   "cell_type": "code",
   "execution_count": 9,
   "metadata": {},
   "outputs": [],
   "source": [
    "class ModelBuilding:\n",
    "    def __init__(self, config: ModelBuildingConfig):\n",
    "        self.config = config\n",
    "\n",
    "\n",
    "    def train_model(self,final_data_path):\n",
    "        \n",
    "            \n",
    "        final_data_for_training = pd.read_pickle(final_data_path)\n",
    "\n",
    "        X_train = final_data_for_training['X_train']\n",
    "        y_train = final_data_for_training['y_train']\n",
    "  \n",
    "        \n",
    "        random_src = RandomizedSearchCV(estimator= LogisticRegression(), param_distributions=read_yaml(PARAMS_FILE_PATH).to_dict()['LogisticRegression'], cv=3, n_jobs=-1)\n",
    "        random_src.fit(X_train,y_train)\n",
    "        print(random_src.best_estimator_)\n",
    "        print(random_src.best_score_)\n",
    "        print(random_src.best_params_)\n",
    "            \n",
    "     \n",
    "\n",
    "\n",
    "        # model = GradientBoostingClassifier(criterion='squared_error', loss='exponential', n_estimators=200)\n",
    "\n",
    "        # model.fit(X_train,y_train)\n",
    "\n",
    "        # if not os.path.exists(self.config.trained_modl_file):\n",
    "        #     save_object(self.config.trained_modl_file,model)\n",
    "        #     logger.info('Trained model is saved')\n",
    "        # else:\n",
    "        #     logger.info(f\"File already exists of size: {get_size(Path(self.config.local_data_file))}\")\n",
    "\n",
    "            \n",
    "            \n"
   ]
  },
  {
   "cell_type": "code",
   "execution_count": 10,
   "metadata": {},
   "outputs": [
    {
     "name": "stdout",
     "output_type": "stream",
     "text": [
      "[2023-07-24 15:49:45,848: INFO: common_functionality: yaml file: config\\config.yaml loaded successfully]\n",
      "[2023-07-24 15:49:45,876: INFO: common_functionality: yaml file: params.yaml loaded successfully]\n",
      "[2023-07-24 15:49:45,879: INFO: common_functionality: created directory at: artifacts]\n",
      "[2023-07-24 15:49:45,883: INFO: common_functionality: created directory at: artifacts/model_building]\n"
     ]
    },
    {
     "name": "stdout",
     "output_type": "stream",
     "text": [
      "[2023-07-24 15:49:45,986: INFO: common_functionality: yaml file: params.yaml loaded successfully]\n",
      "LogisticRegression(C=0.01)\n",
      "0.8954691842812249\n",
      "{'solver': 'lbfgs', 'penalty': 'l2', 'C': 0.01}\n"
     ]
    }
   ],
   "source": [
    "try:\n",
    "    config = ConfigurationManager()\n",
    "    \n",
    "    model_building_config = config.get_model_building_config()\n",
    "    model_building = ModelBuilding(config=model_building_config)\n",
    "    model_building.train_model(config.config.data_processing.final_data_file)\n",
    "   \n",
    "except Exception as e:\n",
    "    raise e"
   ]
  },
  {
   "cell_type": "code",
   "execution_count": null,
   "metadata": {},
   "outputs": [],
   "source": []
  }
 ],
 "metadata": {
  "kernelspec": {
   "display_name": "phishingdetect",
   "language": "python",
   "name": "python3"
  },
  "language_info": {
   "codemirror_mode": {
    "name": "ipython",
    "version": 3
   },
   "file_extension": ".py",
   "mimetype": "text/x-python",
   "name": "python",
   "nbconvert_exporter": "python",
   "pygments_lexer": "ipython3",
   "version": "3.8.17"
  },
  "orig_nbformat": 4
 },
 "nbformat": 4,
 "nbformat_minor": 2
}
