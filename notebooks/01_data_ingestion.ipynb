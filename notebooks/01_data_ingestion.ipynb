{
 "cells": [
  {
   "cell_type": "code",
   "execution_count": 1,
   "metadata": {},
   "outputs": [],
   "source": [
    "import os"
   ]
  },
  {
   "cell_type": "code",
   "execution_count": 2,
   "metadata": {},
   "outputs": [
    {
     "data": {
      "text/plain": [
       "'c:\\\\Users\\\\USER\\\\Documents\\\\JupyterNB\\\\ineuron\\\\Python Advanced\\\\Phishing_detection\\\\notebooks'"
      ]
     },
     "execution_count": 2,
     "metadata": {},
     "output_type": "execute_result"
    }
   ],
   "source": [
    "%pwd"
   ]
  },
  {
   "cell_type": "code",
   "execution_count": 3,
   "metadata": {},
   "outputs": [
    {
     "data": {
      "text/plain": [
       "'c:\\\\Users\\\\USER\\\\Documents\\\\JupyterNB\\\\ineuron\\\\Python Advanced\\\\Phishing_detection'"
      ]
     },
     "execution_count": 3,
     "metadata": {},
     "output_type": "execute_result"
    }
   ],
   "source": [
    "os.chdir('../')\n",
    "%pwd"
   ]
  },
  {
   "cell_type": "code",
   "execution_count": 4,
   "metadata": {},
   "outputs": [],
   "source": [
    "from dataclasses import dataclass\n",
    "from pathlib import Path\n",
    "\n",
    "\n",
    "@dataclass(frozen=True)\n",
    "class DataIngestionConfig:\n",
    "    root_dir: Path\n",
    "    source_URL_phishing: str\n",
    "    source_URL_legit: str\n",
    "    source_URL_ranking: str\n",
    "    phishing_data_file: Path\n",
    "    legit_data_file: Path\n",
    "    ranking_data_file: Path\n"
   ]
  },
  {
   "cell_type": "code",
   "execution_count": 5,
   "metadata": {},
   "outputs": [],
   "source": [
    "from src.phishingdetection.constants import *\n",
    "from src.phishingdetection.utils.common_functionality import read_yaml, create_directories"
   ]
  },
  {
   "cell_type": "code",
   "execution_count": 6,
   "metadata": {},
   "outputs": [],
   "source": [
    "class ConfigurationManager:\n",
    "    def __init__(\n",
    "        self,\n",
    "        config_filepath = CONFIG_FILE_PATH,\n",
    "        params_filepath = PARAMS_FILE_PATH):\n",
    "\n",
    "        self.config = read_yaml(config_filepath)\n",
    "        self.params = read_yaml(params_filepath)\n",
    "\n",
    "        create_directories([self.config.artifacts_root])\n",
    "\n",
    "\n",
    "    \n",
    "    def get_data_ingestion_config(self) -> DataIngestionConfig:\n",
    "        config = self.config.data_ingestion\n",
    "\n",
    "        create_directories([config.root_dir])\n",
    "\n",
    "        data_ingestion_config = DataIngestionConfig(\n",
    "            root_dir=config.root_dir,\n",
    "            source_URL_phishing=config.source_URL_phishing,\n",
    "            source_URL_legit=config.source_URL_legit,\n",
    "            source_URL_ranking=config.source_URL_ranking,\n",
    "            phishing_data_file=config.phishing_data_file,\n",
    "            legit_data_file=config.legit_data_file,\n",
    "            ranking_data_file=config.ranking_data_file,\n",
    "\n",
    "            \n",
    "        )\n",
    "\n",
    "        return data_ingestion_config\n",
    "      "
   ]
  },
  {
   "cell_type": "code",
   "execution_count": 7,
   "metadata": {},
   "outputs": [],
   "source": [
    "import urllib.request as request\n",
    "from src.phishingdetection.utils.common_functionality import get_size\n",
    "from src.phishingdetection import logger\n",
    "import pandas as pd"
   ]
  },
  {
   "cell_type": "code",
   "execution_count": 8,
   "metadata": {},
   "outputs": [],
   "source": [
    "\n",
    "class DataIngestion:\n",
    "    def __init__(self, config: DataIngestionConfig):\n",
    "        self.config = config\n",
    "\n",
    "\n",
    "\n",
    "    def collect_phishing_data(self):\n",
    "        if not os.path.exists(self.config.phishing_data_file):\n",
    "            \n",
    "            url = self.config.source_URL_phishing\n",
    "            df = pd.read_csv(url)\n",
    "            df.to_csv(self.config.phishing_data_file,index=False)\n",
    "            \n",
    "            logger.info(\"Phishing data Saved!\")\n",
    "        else:\n",
    "            logger.info(f\"File already exists of size: {get_size(Path(self.config.local_data_file))}\")\n",
    "\n",
    "\n",
    "    def collect_legit_data(self):\n",
    "        if not os.path.exists(self.config.legit_data_file):\n",
    "            \n",
    "            url = self.config.source_URL_legit\n",
    "            df = pd.read_csv(url)\n",
    "            df.to_csv(self.config.legit_data_file,index=False)\n",
    "            \n",
    "            logger.info(\"Legit data Saved!\")\n",
    "        else:\n",
    "            logger.info(f\"File already exists of size: {get_size(Path(self.config.local_data_file))}\")\n",
    "\n",
    "    \n",
    "    def collect_ranking_data(self):\n",
    "        if not os.path.exists(self.config.ranking_data_file):\n",
    "            \n",
    "            url = self.config.source_URL_ranking\n",
    "            export_path = 'https://drive.google.com/uc?export=download&id='+url.split('/')[-2]\n",
    "            df = pd.read_csv(export_path)\n",
    "            df.to_csv(self.config.ranking_data_file,index=False)\n",
    "            \n",
    "            logger.info(\"Ranking data Saved!\")\n",
    "        else:\n",
    "            logger.info(f\"File already exists of size: {get_size(Path(self.config.local_data_file))}\")"
   ]
  },
  {
   "cell_type": "code",
   "execution_count": 9,
   "metadata": {},
   "outputs": [
    {
     "name": "stdout",
     "output_type": "stream",
     "text": [
      "[2023-07-20 17:13:55,543: INFO: common_functionality: yaml file: config\\config.yaml loaded successfully]\n",
      "[2023-07-20 17:13:55,624: INFO: common_functionality: yaml file: params.yaml loaded successfully]\n",
      "[2023-07-20 17:13:55,713: INFO: common_functionality: created directory at: artifacts]\n",
      "[2023-07-20 17:13:55,716: INFO: common_functionality: created directory at: artifacts/data_ingestion]\n",
      "[2023-07-20 17:13:57,759: INFO: 137082402: Phishing data Saved!]\n",
      "[2023-07-20 17:13:59,452: INFO: 137082402: Legit data Saved!]\n",
      "[2023-07-20 17:14:17,425: INFO: 137082402: Ranking data Saved!]\n"
     ]
    }
   ],
   "source": [
    "try:\n",
    "    config = ConfigurationManager()\n",
    "    data_ingestion_config = config.get_data_ingestion_config()\n",
    "    data_ingestion = DataIngestion(config=data_ingestion_config)\n",
    "    data_ingestion.collect_phishing_data()\n",
    "    data_ingestion.collect_legit_data()\n",
    "    data_ingestion.collect_ranking_data()\n",
    "\n",
    "   \n",
    "except Exception as e:\n",
    "    raise e"
   ]
  },
  {
   "cell_type": "code",
   "execution_count": null,
   "metadata": {},
   "outputs": [],
   "source": []
  }
 ],
 "metadata": {
  "kernelspec": {
   "display_name": "phishingdetect",
   "language": "python",
   "name": "python3"
  },
  "language_info": {
   "codemirror_mode": {
    "name": "ipython",
    "version": 3
   },
   "file_extension": ".py",
   "mimetype": "text/x-python",
   "name": "python",
   "nbconvert_exporter": "python",
   "pygments_lexer": "ipython3",
   "version": "3.8.17"
  },
  "orig_nbformat": 4
 },
 "nbformat": 4,
 "nbformat_minor": 2
}
